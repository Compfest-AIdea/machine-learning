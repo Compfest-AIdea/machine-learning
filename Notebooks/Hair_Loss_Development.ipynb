{
  "nbformat": 4,
  "nbformat_minor": 0,
  "metadata": {
    "colab": {
      "provenance": []
    },
    "kernelspec": {
      "name": "python3",
      "display_name": "Python 3"
    },
    "language_info": {
      "name": "python"
    }
  },
  "cells": [
    {
      "cell_type": "code",
      "execution_count": 1,
      "metadata": {
        "id": "pbp2BRjM9a3J"
      },
      "outputs": [],
      "source": [
        "import pandas as pd\n",
        "from sklearn.model_selection import train_test_split"
      ]
    },
    {
      "cell_type": "code",
      "source": [
        "!git clone https://github.com/Compfest-AIdea/machine-learning.git"
      ],
      "metadata": {
        "colab": {
          "base_uri": "https://localhost:8080/"
        },
        "id": "ub-irtFlY109",
        "outputId": "b6a0941c-2ff8-41f9-b4e0-bf5437c109c7"
      },
      "execution_count": 2,
      "outputs": [
        {
          "output_type": "stream",
          "name": "stdout",
          "text": [
            "Cloning into 'machine-learning'...\n",
            "remote: Enumerating objects: 339, done.\u001b[K\n",
            "remote: Counting objects: 100% (339/339), done.\u001b[K\n",
            "remote: Compressing objects: 100% (337/337), done.\u001b[K\n",
            "remote: Total 339 (delta 1), reused 0 (delta 0), pack-reused 0\u001b[K\n",
            "Receiving objects: 100% (339/339), 4.38 MiB | 27.02 MiB/s, done.\n",
            "Resolving deltas: 100% (1/1), done.\n"
          ]
        }
      ]
    },
    {
      "cell_type": "code",
      "source": [
        "df = pd.read_csv(\"/content/machine-learning/Dataset/Dataset-Tabular/hair_loss_selected.csv\")"
      ],
      "metadata": {
        "id": "esETnFYK9hXl"
      },
      "execution_count": 3,
      "outputs": []
    },
    {
      "cell_type": "code",
      "source": [
        "df.info()"
      ],
      "metadata": {
        "colab": {
          "base_uri": "https://localhost:8080/"
        },
        "id": "ctBczTDx-0cY",
        "outputId": "9d8e5a7e-690e-4f84-e1e8-8fa1332c4671"
      },
      "execution_count": 4,
      "outputs": [
        {
          "output_type": "stream",
          "name": "stdout",
          "text": [
            "<class 'pandas.core.frame.DataFrame'>\n",
            "RangeIndex: 396 entries, 0 to 395\n",
            "Data columns (total 9 columns):\n",
            " #   Column                  Non-Null Count  Dtype\n",
            "---  ------                  --------------  -----\n",
            " 0   hair_loss               396 non-null    int64\n",
            " 1   stay_up_late            396 non-null    int64\n",
            " 2   coffee_consumed         396 non-null    int64\n",
            " 3   brain_working_duration  396 non-null    int64\n",
            " 4   pressure_level          396 non-null    int64\n",
            " 5   stress_level            396 non-null    int64\n",
            " 6   swimming                396 non-null    int64\n",
            " 7   hair_washing            396 non-null    int64\n",
            " 8   dandruff                396 non-null    int64\n",
            "dtypes: int64(9)\n",
            "memory usage: 28.0 KB\n"
          ]
        }
      ]
    },
    {
      "cell_type": "markdown",
      "source": [
        "# Data Augmentation"
      ],
      "metadata": {
        "id": "jfKtg74_qpDb"
      }
    },
    {
      "cell_type": "code",
      "source": [
        "df.head()"
      ],
      "metadata": {
        "colab": {
          "base_uri": "https://localhost:8080/",
          "height": 206
        },
        "id": "CYrmiyWDqny0",
        "outputId": "43c02c97-829d-4ae7-c245-ea806894cb43"
      },
      "execution_count": 5,
      "outputs": [
        {
          "output_type": "execute_result",
          "data": {
            "text/plain": [
              "   hair_loss  stay_up_late  coffee_consumed  brain_working_duration  \\\n",
              "0          0             2                0                       1   \n",
              "1          0             0                0                       3   \n",
              "2          1             3                1                       0   \n",
              "3          0             2                0                       1   \n",
              "4          0             2                0                       1   \n",
              "\n",
              "   pressure_level  stress_level  swimming  hair_washing  dandruff  \n",
              "0               0             0         0             0         0  \n",
              "1               0             0         0             0         0  \n",
              "2               1             1         1             1         1  \n",
              "3               0             0         0             0         0  \n",
              "4               0             0         0             0         0  "
            ],
            "text/html": [
              "\n",
              "\n",
              "  <div id=\"df-e663d1d8-56f3-407a-80eb-948d41558339\">\n",
              "    <div class=\"colab-df-container\">\n",
              "      <div>\n",
              "<style scoped>\n",
              "    .dataframe tbody tr th:only-of-type {\n",
              "        vertical-align: middle;\n",
              "    }\n",
              "\n",
              "    .dataframe tbody tr th {\n",
              "        vertical-align: top;\n",
              "    }\n",
              "\n",
              "    .dataframe thead th {\n",
              "        text-align: right;\n",
              "    }\n",
              "</style>\n",
              "<table border=\"1\" class=\"dataframe\">\n",
              "  <thead>\n",
              "    <tr style=\"text-align: right;\">\n",
              "      <th></th>\n",
              "      <th>hair_loss</th>\n",
              "      <th>stay_up_late</th>\n",
              "      <th>coffee_consumed</th>\n",
              "      <th>brain_working_duration</th>\n",
              "      <th>pressure_level</th>\n",
              "      <th>stress_level</th>\n",
              "      <th>swimming</th>\n",
              "      <th>hair_washing</th>\n",
              "      <th>dandruff</th>\n",
              "    </tr>\n",
              "  </thead>\n",
              "  <tbody>\n",
              "    <tr>\n",
              "      <th>0</th>\n",
              "      <td>0</td>\n",
              "      <td>2</td>\n",
              "      <td>0</td>\n",
              "      <td>1</td>\n",
              "      <td>0</td>\n",
              "      <td>0</td>\n",
              "      <td>0</td>\n",
              "      <td>0</td>\n",
              "      <td>0</td>\n",
              "    </tr>\n",
              "    <tr>\n",
              "      <th>1</th>\n",
              "      <td>0</td>\n",
              "      <td>0</td>\n",
              "      <td>0</td>\n",
              "      <td>3</td>\n",
              "      <td>0</td>\n",
              "      <td>0</td>\n",
              "      <td>0</td>\n",
              "      <td>0</td>\n",
              "      <td>0</td>\n",
              "    </tr>\n",
              "    <tr>\n",
              "      <th>2</th>\n",
              "      <td>1</td>\n",
              "      <td>3</td>\n",
              "      <td>1</td>\n",
              "      <td>0</td>\n",
              "      <td>1</td>\n",
              "      <td>1</td>\n",
              "      <td>1</td>\n",
              "      <td>1</td>\n",
              "      <td>1</td>\n",
              "    </tr>\n",
              "    <tr>\n",
              "      <th>3</th>\n",
              "      <td>0</td>\n",
              "      <td>2</td>\n",
              "      <td>0</td>\n",
              "      <td>1</td>\n",
              "      <td>0</td>\n",
              "      <td>0</td>\n",
              "      <td>0</td>\n",
              "      <td>0</td>\n",
              "      <td>0</td>\n",
              "    </tr>\n",
              "    <tr>\n",
              "      <th>4</th>\n",
              "      <td>0</td>\n",
              "      <td>2</td>\n",
              "      <td>0</td>\n",
              "      <td>1</td>\n",
              "      <td>0</td>\n",
              "      <td>0</td>\n",
              "      <td>0</td>\n",
              "      <td>0</td>\n",
              "      <td>0</td>\n",
              "    </tr>\n",
              "  </tbody>\n",
              "</table>\n",
              "</div>\n",
              "      <button class=\"colab-df-convert\" onclick=\"convertToInteractive('df-e663d1d8-56f3-407a-80eb-948d41558339')\"\n",
              "              title=\"Convert this dataframe to an interactive table.\"\n",
              "              style=\"display:none;\">\n",
              "\n",
              "  <svg xmlns=\"http://www.w3.org/2000/svg\" height=\"24px\"viewBox=\"0 0 24 24\"\n",
              "       width=\"24px\">\n",
              "    <path d=\"M0 0h24v24H0V0z\" fill=\"none\"/>\n",
              "    <path d=\"M18.56 5.44l.94 2.06.94-2.06 2.06-.94-2.06-.94-.94-2.06-.94 2.06-2.06.94zm-11 1L8.5 8.5l.94-2.06 2.06-.94-2.06-.94L8.5 2.5l-.94 2.06-2.06.94zm10 10l.94 2.06.94-2.06 2.06-.94-2.06-.94-.94-2.06-.94 2.06-2.06.94z\"/><path d=\"M17.41 7.96l-1.37-1.37c-.4-.4-.92-.59-1.43-.59-.52 0-1.04.2-1.43.59L10.3 9.45l-7.72 7.72c-.78.78-.78 2.05 0 2.83L4 21.41c.39.39.9.59 1.41.59.51 0 1.02-.2 1.41-.59l7.78-7.78 2.81-2.81c.8-.78.8-2.07 0-2.86zM5.41 20L4 18.59l7.72-7.72 1.47 1.35L5.41 20z\"/>\n",
              "  </svg>\n",
              "      </button>\n",
              "\n",
              "\n",
              "\n",
              "    <div id=\"df-841d727b-d799-4884-bdd9-186c3e1f84bf\">\n",
              "      <button class=\"colab-df-quickchart\" onclick=\"quickchart('df-841d727b-d799-4884-bdd9-186c3e1f84bf')\"\n",
              "              title=\"Suggest charts.\"\n",
              "              style=\"display:none;\">\n",
              "\n",
              "<svg xmlns=\"http://www.w3.org/2000/svg\" height=\"24px\"viewBox=\"0 0 24 24\"\n",
              "     width=\"24px\">\n",
              "    <g>\n",
              "        <path d=\"M19 3H5c-1.1 0-2 .9-2 2v14c0 1.1.9 2 2 2h14c1.1 0 2-.9 2-2V5c0-1.1-.9-2-2-2zM9 17H7v-7h2v7zm4 0h-2V7h2v10zm4 0h-2v-4h2v4z\"/>\n",
              "    </g>\n",
              "</svg>\n",
              "      </button>\n",
              "    </div>\n",
              "\n",
              "<style>\n",
              "  .colab-df-quickchart {\n",
              "    background-color: #E8F0FE;\n",
              "    border: none;\n",
              "    border-radius: 50%;\n",
              "    cursor: pointer;\n",
              "    display: none;\n",
              "    fill: #1967D2;\n",
              "    height: 32px;\n",
              "    padding: 0 0 0 0;\n",
              "    width: 32px;\n",
              "  }\n",
              "\n",
              "  .colab-df-quickchart:hover {\n",
              "    background-color: #E2EBFA;\n",
              "    box-shadow: 0px 1px 2px rgba(60, 64, 67, 0.3), 0px 1px 3px 1px rgba(60, 64, 67, 0.15);\n",
              "    fill: #174EA6;\n",
              "  }\n",
              "\n",
              "  [theme=dark] .colab-df-quickchart {\n",
              "    background-color: #3B4455;\n",
              "    fill: #D2E3FC;\n",
              "  }\n",
              "\n",
              "  [theme=dark] .colab-df-quickchart:hover {\n",
              "    background-color: #434B5C;\n",
              "    box-shadow: 0px 1px 3px 1px rgba(0, 0, 0, 0.15);\n",
              "    filter: drop-shadow(0px 1px 2px rgba(0, 0, 0, 0.3));\n",
              "    fill: #FFFFFF;\n",
              "  }\n",
              "</style>\n",
              "\n",
              "    <script>\n",
              "      async function quickchart(key) {\n",
              "        const containerElement = document.querySelector('#' + key);\n",
              "        const charts = await google.colab.kernel.invokeFunction(\n",
              "            'suggestCharts', [key], {});\n",
              "      }\n",
              "    </script>\n",
              "\n",
              "      <script>\n",
              "\n",
              "function displayQuickchartButton(domScope) {\n",
              "  let quickchartButtonEl =\n",
              "    domScope.querySelector('#df-841d727b-d799-4884-bdd9-186c3e1f84bf button.colab-df-quickchart');\n",
              "  quickchartButtonEl.style.display =\n",
              "    google.colab.kernel.accessAllowed ? 'block' : 'none';\n",
              "}\n",
              "\n",
              "        displayQuickchartButton(document);\n",
              "      </script>\n",
              "      <style>\n",
              "    .colab-df-container {\n",
              "      display:flex;\n",
              "      flex-wrap:wrap;\n",
              "      gap: 12px;\n",
              "    }\n",
              "\n",
              "    .colab-df-convert {\n",
              "      background-color: #E8F0FE;\n",
              "      border: none;\n",
              "      border-radius: 50%;\n",
              "      cursor: pointer;\n",
              "      display: none;\n",
              "      fill: #1967D2;\n",
              "      height: 32px;\n",
              "      padding: 0 0 0 0;\n",
              "      width: 32px;\n",
              "    }\n",
              "\n",
              "    .colab-df-convert:hover {\n",
              "      background-color: #E2EBFA;\n",
              "      box-shadow: 0px 1px 2px rgba(60, 64, 67, 0.3), 0px 1px 3px 1px rgba(60, 64, 67, 0.15);\n",
              "      fill: #174EA6;\n",
              "    }\n",
              "\n",
              "    [theme=dark] .colab-df-convert {\n",
              "      background-color: #3B4455;\n",
              "      fill: #D2E3FC;\n",
              "    }\n",
              "\n",
              "    [theme=dark] .colab-df-convert:hover {\n",
              "      background-color: #434B5C;\n",
              "      box-shadow: 0px 1px 3px 1px rgba(0, 0, 0, 0.15);\n",
              "      filter: drop-shadow(0px 1px 2px rgba(0, 0, 0, 0.3));\n",
              "      fill: #FFFFFF;\n",
              "    }\n",
              "  </style>\n",
              "\n",
              "      <script>\n",
              "        const buttonEl =\n",
              "          document.querySelector('#df-e663d1d8-56f3-407a-80eb-948d41558339 button.colab-df-convert');\n",
              "        buttonEl.style.display =\n",
              "          google.colab.kernel.accessAllowed ? 'block' : 'none';\n",
              "\n",
              "        async function convertToInteractive(key) {\n",
              "          const element = document.querySelector('#df-e663d1d8-56f3-407a-80eb-948d41558339');\n",
              "          const dataTable =\n",
              "            await google.colab.kernel.invokeFunction('convertToInteractive',\n",
              "                                                     [key], {});\n",
              "          if (!dataTable) return;\n",
              "\n",
              "          const docLinkHtml = 'Like what you see? Visit the ' +\n",
              "            '<a target=\"_blank\" href=https://colab.research.google.com/notebooks/data_table.ipynb>data table notebook</a>'\n",
              "            + ' to learn more about interactive tables.';\n",
              "          element.innerHTML = '';\n",
              "          dataTable['output_type'] = 'display_data';\n",
              "          await google.colab.output.renderOutput(dataTable, element);\n",
              "          const docLink = document.createElement('div');\n",
              "          docLink.innerHTML = docLinkHtml;\n",
              "          element.appendChild(docLink);\n",
              "        }\n",
              "      </script>\n",
              "    </div>\n",
              "  </div>\n"
            ]
          },
          "metadata": {},
          "execution_count": 5
        }
      ]
    },
    {
      "cell_type": "code",
      "source": [
        "df['hair_loss'].value_counts()"
      ],
      "metadata": {
        "colab": {
          "base_uri": "https://localhost:8080/"
        },
        "id": "hiDawLnoq2VM",
        "outputId": "a45cfb37-4a2c-4375-ffeb-5cc873d26f55"
      },
      "execution_count": 6,
      "outputs": [
        {
          "output_type": "execute_result",
          "data": {
            "text/plain": [
              "0    166\n",
              "1    166\n",
              "2     42\n",
              "3     22\n",
              "Name: hair_loss, dtype: int64"
            ]
          },
          "metadata": {},
          "execution_count": 6
        }
      ]
    },
    {
      "cell_type": "code",
      "source": [
        "df_major = df[(df['hair_loss']==0) | (df['hair_loss']==1)]\n",
        "df_dua = df[(df['hair_loss']==2)]\n",
        "df_tiga = df[(df['hair_loss']==3)]"
      ],
      "metadata": {
        "id": "zZ-POQLarEIi"
      },
      "execution_count": 7,
      "outputs": []
    },
    {
      "cell_type": "code",
      "source": [
        "from sklearn.utils import resample\n",
        "\n",
        "df_dua_up = resample(df_dua, replace = True, n_samples = 50, random_state = 42)\n",
        "df_tiga_up = resample(df_tiga, replace = True, n_samples = 50, random_state = 42)\n",
        "df_aug = pd.concat([df_major, df_dua_up, df_tiga_up]).reset_index(drop=True)"
      ],
      "metadata": {
        "id": "MrDipwdVrn3M"
      },
      "execution_count": 8,
      "outputs": []
    },
    {
      "cell_type": "code",
      "source": [
        "df_aug['hair_loss'].value_counts()"
      ],
      "metadata": {
        "colab": {
          "base_uri": "https://localhost:8080/"
        },
        "id": "CInz-V7fsXMS",
        "outputId": "1ecb93f0-31af-4b78-ba77-014698987ce5"
      },
      "execution_count": 9,
      "outputs": [
        {
          "output_type": "execute_result",
          "data": {
            "text/plain": [
              "0    166\n",
              "1    166\n",
              "2     50\n",
              "3     50\n",
              "Name: hair_loss, dtype: int64"
            ]
          },
          "metadata": {},
          "execution_count": 9
        }
      ]
    },
    {
      "cell_type": "code",
      "source": [
        "df_aug"
      ],
      "metadata": {
        "colab": {
          "base_uri": "https://localhost:8080/",
          "height": 423
        },
        "id": "gd_w1PJor5Jo",
        "outputId": "f873cf6a-823a-4087-c3da-f3f075f7ad63"
      },
      "execution_count": 10,
      "outputs": [
        {
          "output_type": "execute_result",
          "data": {
            "text/plain": [
              "     hair_loss  stay_up_late  coffee_consumed  brain_working_duration  \\\n",
              "0            0             2                0                       1   \n",
              "1            0             0                0                       3   \n",
              "2            1             3                1                       0   \n",
              "3            0             2                0                       1   \n",
              "4            0             2                0                       1   \n",
              "..         ...           ...              ...                     ...   \n",
              "427          3             8                8                      18   \n",
              "428          3             4                6                      13   \n",
              "429          3             6                7                      16   \n",
              "430          3             6                7                      16   \n",
              "431          3             0                0                       0   \n",
              "\n",
              "     pressure_level  stress_level  swimming  hair_washing  dandruff  \n",
              "0                 0             0         0             0         0  \n",
              "1                 0             0         0             0         0  \n",
              "2                 1             1         1             1         1  \n",
              "3                 0             0         0             0         0  \n",
              "4                 0             0         0             0         0  \n",
              "..              ...           ...       ...           ...       ...  \n",
              "427               3             3         3             3         3  \n",
              "428               3             3         3             3         3  \n",
              "429               3             3         3             3         3  \n",
              "430               3             3         3             3         3  \n",
              "431               3             3         3             3         3  \n",
              "\n",
              "[432 rows x 9 columns]"
            ],
            "text/html": [
              "\n",
              "\n",
              "  <div id=\"df-43553925-8fa3-4820-b3d6-8202b16791bb\">\n",
              "    <div class=\"colab-df-container\">\n",
              "      <div>\n",
              "<style scoped>\n",
              "    .dataframe tbody tr th:only-of-type {\n",
              "        vertical-align: middle;\n",
              "    }\n",
              "\n",
              "    .dataframe tbody tr th {\n",
              "        vertical-align: top;\n",
              "    }\n",
              "\n",
              "    .dataframe thead th {\n",
              "        text-align: right;\n",
              "    }\n",
              "</style>\n",
              "<table border=\"1\" class=\"dataframe\">\n",
              "  <thead>\n",
              "    <tr style=\"text-align: right;\">\n",
              "      <th></th>\n",
              "      <th>hair_loss</th>\n",
              "      <th>stay_up_late</th>\n",
              "      <th>coffee_consumed</th>\n",
              "      <th>brain_working_duration</th>\n",
              "      <th>pressure_level</th>\n",
              "      <th>stress_level</th>\n",
              "      <th>swimming</th>\n",
              "      <th>hair_washing</th>\n",
              "      <th>dandruff</th>\n",
              "    </tr>\n",
              "  </thead>\n",
              "  <tbody>\n",
              "    <tr>\n",
              "      <th>0</th>\n",
              "      <td>0</td>\n",
              "      <td>2</td>\n",
              "      <td>0</td>\n",
              "      <td>1</td>\n",
              "      <td>0</td>\n",
              "      <td>0</td>\n",
              "      <td>0</td>\n",
              "      <td>0</td>\n",
              "      <td>0</td>\n",
              "    </tr>\n",
              "    <tr>\n",
              "      <th>1</th>\n",
              "      <td>0</td>\n",
              "      <td>0</td>\n",
              "      <td>0</td>\n",
              "      <td>3</td>\n",
              "      <td>0</td>\n",
              "      <td>0</td>\n",
              "      <td>0</td>\n",
              "      <td>0</td>\n",
              "      <td>0</td>\n",
              "    </tr>\n",
              "    <tr>\n",
              "      <th>2</th>\n",
              "      <td>1</td>\n",
              "      <td>3</td>\n",
              "      <td>1</td>\n",
              "      <td>0</td>\n",
              "      <td>1</td>\n",
              "      <td>1</td>\n",
              "      <td>1</td>\n",
              "      <td>1</td>\n",
              "      <td>1</td>\n",
              "    </tr>\n",
              "    <tr>\n",
              "      <th>3</th>\n",
              "      <td>0</td>\n",
              "      <td>2</td>\n",
              "      <td>0</td>\n",
              "      <td>1</td>\n",
              "      <td>0</td>\n",
              "      <td>0</td>\n",
              "      <td>0</td>\n",
              "      <td>0</td>\n",
              "      <td>0</td>\n",
              "    </tr>\n",
              "    <tr>\n",
              "      <th>4</th>\n",
              "      <td>0</td>\n",
              "      <td>2</td>\n",
              "      <td>0</td>\n",
              "      <td>1</td>\n",
              "      <td>0</td>\n",
              "      <td>0</td>\n",
              "      <td>0</td>\n",
              "      <td>0</td>\n",
              "      <td>0</td>\n",
              "    </tr>\n",
              "    <tr>\n",
              "      <th>...</th>\n",
              "      <td>...</td>\n",
              "      <td>...</td>\n",
              "      <td>...</td>\n",
              "      <td>...</td>\n",
              "      <td>...</td>\n",
              "      <td>...</td>\n",
              "      <td>...</td>\n",
              "      <td>...</td>\n",
              "      <td>...</td>\n",
              "    </tr>\n",
              "    <tr>\n",
              "      <th>427</th>\n",
              "      <td>3</td>\n",
              "      <td>8</td>\n",
              "      <td>8</td>\n",
              "      <td>18</td>\n",
              "      <td>3</td>\n",
              "      <td>3</td>\n",
              "      <td>3</td>\n",
              "      <td>3</td>\n",
              "      <td>3</td>\n",
              "    </tr>\n",
              "    <tr>\n",
              "      <th>428</th>\n",
              "      <td>3</td>\n",
              "      <td>4</td>\n",
              "      <td>6</td>\n",
              "      <td>13</td>\n",
              "      <td>3</td>\n",
              "      <td>3</td>\n",
              "      <td>3</td>\n",
              "      <td>3</td>\n",
              "      <td>3</td>\n",
              "    </tr>\n",
              "    <tr>\n",
              "      <th>429</th>\n",
              "      <td>3</td>\n",
              "      <td>6</td>\n",
              "      <td>7</td>\n",
              "      <td>16</td>\n",
              "      <td>3</td>\n",
              "      <td>3</td>\n",
              "      <td>3</td>\n",
              "      <td>3</td>\n",
              "      <td>3</td>\n",
              "    </tr>\n",
              "    <tr>\n",
              "      <th>430</th>\n",
              "      <td>3</td>\n",
              "      <td>6</td>\n",
              "      <td>7</td>\n",
              "      <td>16</td>\n",
              "      <td>3</td>\n",
              "      <td>3</td>\n",
              "      <td>3</td>\n",
              "      <td>3</td>\n",
              "      <td>3</td>\n",
              "    </tr>\n",
              "    <tr>\n",
              "      <th>431</th>\n",
              "      <td>3</td>\n",
              "      <td>0</td>\n",
              "      <td>0</td>\n",
              "      <td>0</td>\n",
              "      <td>3</td>\n",
              "      <td>3</td>\n",
              "      <td>3</td>\n",
              "      <td>3</td>\n",
              "      <td>3</td>\n",
              "    </tr>\n",
              "  </tbody>\n",
              "</table>\n",
              "<p>432 rows × 9 columns</p>\n",
              "</div>\n",
              "      <button class=\"colab-df-convert\" onclick=\"convertToInteractive('df-43553925-8fa3-4820-b3d6-8202b16791bb')\"\n",
              "              title=\"Convert this dataframe to an interactive table.\"\n",
              "              style=\"display:none;\">\n",
              "\n",
              "  <svg xmlns=\"http://www.w3.org/2000/svg\" height=\"24px\"viewBox=\"0 0 24 24\"\n",
              "       width=\"24px\">\n",
              "    <path d=\"M0 0h24v24H0V0z\" fill=\"none\"/>\n",
              "    <path d=\"M18.56 5.44l.94 2.06.94-2.06 2.06-.94-2.06-.94-.94-2.06-.94 2.06-2.06.94zm-11 1L8.5 8.5l.94-2.06 2.06-.94-2.06-.94L8.5 2.5l-.94 2.06-2.06.94zm10 10l.94 2.06.94-2.06 2.06-.94-2.06-.94-.94-2.06-.94 2.06-2.06.94z\"/><path d=\"M17.41 7.96l-1.37-1.37c-.4-.4-.92-.59-1.43-.59-.52 0-1.04.2-1.43.59L10.3 9.45l-7.72 7.72c-.78.78-.78 2.05 0 2.83L4 21.41c.39.39.9.59 1.41.59.51 0 1.02-.2 1.41-.59l7.78-7.78 2.81-2.81c.8-.78.8-2.07 0-2.86zM5.41 20L4 18.59l7.72-7.72 1.47 1.35L5.41 20z\"/>\n",
              "  </svg>\n",
              "      </button>\n",
              "\n",
              "\n",
              "\n",
              "    <div id=\"df-da8b4dbf-dada-4544-a980-152c59a32f0e\">\n",
              "      <button class=\"colab-df-quickchart\" onclick=\"quickchart('df-da8b4dbf-dada-4544-a980-152c59a32f0e')\"\n",
              "              title=\"Suggest charts.\"\n",
              "              style=\"display:none;\">\n",
              "\n",
              "<svg xmlns=\"http://www.w3.org/2000/svg\" height=\"24px\"viewBox=\"0 0 24 24\"\n",
              "     width=\"24px\">\n",
              "    <g>\n",
              "        <path d=\"M19 3H5c-1.1 0-2 .9-2 2v14c0 1.1.9 2 2 2h14c1.1 0 2-.9 2-2V5c0-1.1-.9-2-2-2zM9 17H7v-7h2v7zm4 0h-2V7h2v10zm4 0h-2v-4h2v4z\"/>\n",
              "    </g>\n",
              "</svg>\n",
              "      </button>\n",
              "    </div>\n",
              "\n",
              "<style>\n",
              "  .colab-df-quickchart {\n",
              "    background-color: #E8F0FE;\n",
              "    border: none;\n",
              "    border-radius: 50%;\n",
              "    cursor: pointer;\n",
              "    display: none;\n",
              "    fill: #1967D2;\n",
              "    height: 32px;\n",
              "    padding: 0 0 0 0;\n",
              "    width: 32px;\n",
              "  }\n",
              "\n",
              "  .colab-df-quickchart:hover {\n",
              "    background-color: #E2EBFA;\n",
              "    box-shadow: 0px 1px 2px rgba(60, 64, 67, 0.3), 0px 1px 3px 1px rgba(60, 64, 67, 0.15);\n",
              "    fill: #174EA6;\n",
              "  }\n",
              "\n",
              "  [theme=dark] .colab-df-quickchart {\n",
              "    background-color: #3B4455;\n",
              "    fill: #D2E3FC;\n",
              "  }\n",
              "\n",
              "  [theme=dark] .colab-df-quickchart:hover {\n",
              "    background-color: #434B5C;\n",
              "    box-shadow: 0px 1px 3px 1px rgba(0, 0, 0, 0.15);\n",
              "    filter: drop-shadow(0px 1px 2px rgba(0, 0, 0, 0.3));\n",
              "    fill: #FFFFFF;\n",
              "  }\n",
              "</style>\n",
              "\n",
              "    <script>\n",
              "      async function quickchart(key) {\n",
              "        const containerElement = document.querySelector('#' + key);\n",
              "        const charts = await google.colab.kernel.invokeFunction(\n",
              "            'suggestCharts', [key], {});\n",
              "      }\n",
              "    </script>\n",
              "\n",
              "      <script>\n",
              "\n",
              "function displayQuickchartButton(domScope) {\n",
              "  let quickchartButtonEl =\n",
              "    domScope.querySelector('#df-da8b4dbf-dada-4544-a980-152c59a32f0e button.colab-df-quickchart');\n",
              "  quickchartButtonEl.style.display =\n",
              "    google.colab.kernel.accessAllowed ? 'block' : 'none';\n",
              "}\n",
              "\n",
              "        displayQuickchartButton(document);\n",
              "      </script>\n",
              "      <style>\n",
              "    .colab-df-container {\n",
              "      display:flex;\n",
              "      flex-wrap:wrap;\n",
              "      gap: 12px;\n",
              "    }\n",
              "\n",
              "    .colab-df-convert {\n",
              "      background-color: #E8F0FE;\n",
              "      border: none;\n",
              "      border-radius: 50%;\n",
              "      cursor: pointer;\n",
              "      display: none;\n",
              "      fill: #1967D2;\n",
              "      height: 32px;\n",
              "      padding: 0 0 0 0;\n",
              "      width: 32px;\n",
              "    }\n",
              "\n",
              "    .colab-df-convert:hover {\n",
              "      background-color: #E2EBFA;\n",
              "      box-shadow: 0px 1px 2px rgba(60, 64, 67, 0.3), 0px 1px 3px 1px rgba(60, 64, 67, 0.15);\n",
              "      fill: #174EA6;\n",
              "    }\n",
              "\n",
              "    [theme=dark] .colab-df-convert {\n",
              "      background-color: #3B4455;\n",
              "      fill: #D2E3FC;\n",
              "    }\n",
              "\n",
              "    [theme=dark] .colab-df-convert:hover {\n",
              "      background-color: #434B5C;\n",
              "      box-shadow: 0px 1px 3px 1px rgba(0, 0, 0, 0.15);\n",
              "      filter: drop-shadow(0px 1px 2px rgba(0, 0, 0, 0.3));\n",
              "      fill: #FFFFFF;\n",
              "    }\n",
              "  </style>\n",
              "\n",
              "      <script>\n",
              "        const buttonEl =\n",
              "          document.querySelector('#df-43553925-8fa3-4820-b3d6-8202b16791bb button.colab-df-convert');\n",
              "        buttonEl.style.display =\n",
              "          google.colab.kernel.accessAllowed ? 'block' : 'none';\n",
              "\n",
              "        async function convertToInteractive(key) {\n",
              "          const element = document.querySelector('#df-43553925-8fa3-4820-b3d6-8202b16791bb');\n",
              "          const dataTable =\n",
              "            await google.colab.kernel.invokeFunction('convertToInteractive',\n",
              "                                                     [key], {});\n",
              "          if (!dataTable) return;\n",
              "\n",
              "          const docLinkHtml = 'Like what you see? Visit the ' +\n",
              "            '<a target=\"_blank\" href=https://colab.research.google.com/notebooks/data_table.ipynb>data table notebook</a>'\n",
              "            + ' to learn more about interactive tables.';\n",
              "          element.innerHTML = '';\n",
              "          dataTable['output_type'] = 'display_data';\n",
              "          await google.colab.output.renderOutput(dataTable, element);\n",
              "          const docLink = document.createElement('div');\n",
              "          docLink.innerHTML = docLinkHtml;\n",
              "          element.appendChild(docLink);\n",
              "        }\n",
              "      </script>\n",
              "    </div>\n",
              "  </div>\n"
            ]
          },
          "metadata": {},
          "execution_count": 10
        }
      ]
    },
    {
      "cell_type": "code",
      "source": [
        "df_aug.to_csv(\"/content/machine-learning/Dataset/Dataset-Tabular/hair_loss_aug.csv\")"
      ],
      "metadata": {
        "id": "KG956nwyxMvf"
      },
      "execution_count": 11,
      "outputs": []
    },
    {
      "cell_type": "code",
      "source": [
        "Y = df_aug['hair_loss']"
      ],
      "metadata": {
        "id": "QLGEzqU9-ay7"
      },
      "execution_count": 12,
      "outputs": []
    },
    {
      "cell_type": "code",
      "source": [
        "Y.unique()"
      ],
      "metadata": {
        "colab": {
          "base_uri": "https://localhost:8080/"
        },
        "id": "gCw7A1nTBx1C",
        "outputId": "082c038d-b927-42f8-f5db-e428ec119245"
      },
      "execution_count": 13,
      "outputs": [
        {
          "output_type": "execute_result",
          "data": {
            "text/plain": [
              "array([0, 1, 2, 3])"
            ]
          },
          "metadata": {},
          "execution_count": 13
        }
      ]
    },
    {
      "cell_type": "code",
      "source": [
        "#hair_grease, coffee_consumed, pressure_level, stress_level, swimming, hair_washing, dandruff\n",
        "X = df_aug[['stay_up_late', 'coffee_consumed', 'pressure_level', 'stress_level', 'swimming', 'hair_washing', 'dandruff']]"
      ],
      "metadata": {
        "id": "Gje9ZYJH9k93"
      },
      "execution_count": 14,
      "outputs": []
    },
    {
      "cell_type": "code",
      "source": [
        "x_train, x_test, y_train, y_test= train_test_split(X, Y, random_state = 42, train_size=0.7)"
      ],
      "metadata": {
        "id": "14dI9N9C-xu0"
      },
      "execution_count": 15,
      "outputs": []
    },
    {
      "cell_type": "code",
      "source": [
        "print(\"x_train: \", x_train.shape)\n",
        "print(\"x_test: \", x_test.shape)\n",
        "print(\"y_train: \", y_train.shape)\n",
        "print(\"y_test: \", y_test.shape)"
      ],
      "metadata": {
        "colab": {
          "base_uri": "https://localhost:8080/"
        },
        "id": "0H8d_Ab__J0u",
        "outputId": "58484bb9-faae-4ea2-de51-bde1d55ab1eb"
      },
      "execution_count": 16,
      "outputs": [
        {
          "output_type": "stream",
          "name": "stdout",
          "text": [
            "x_train:  (302, 7)\n",
            "x_test:  (130, 7)\n",
            "y_train:  (302,)\n",
            "y_test:  (130,)\n"
          ]
        }
      ]
    },
    {
      "cell_type": "code",
      "source": [
        "import tensorflow as tf\n",
        "import numpy as np\n",
        "import matplotlib.pyplot as plt"
      ],
      "metadata": {
        "id": "QrS2jKz-AKwu"
      },
      "execution_count": 17,
      "outputs": []
    },
    {
      "cell_type": "markdown",
      "source": [
        "# Model Development"
      ],
      "metadata": {
        "id": "JL9sYxkhau0F"
      }
    },
    {
      "cell_type": "code",
      "source": [
        "def create_model():\n",
        "  model = tf.keras.Sequential([\n",
        "    tf.keras.layers.Input(shape=(X.shape[1])),\n",
        "    tf.keras.layers.Dense(32, activation = 'relu'),\n",
        "    tf.keras.layers.Dense(64, activation = 'relu'),\n",
        "    tf.keras.layers.Dense(4, activation='softmax')\n",
        "  ])\n",
        "\n",
        "  model.compile(loss='sparse_categorical_crossentropy', metrics=['accuracy'], optimizer='adam')\n",
        "  return model"
      ],
      "metadata": {
        "id": "WjPLuICVBdBB"
      },
      "execution_count": 18,
      "outputs": []
    },
    {
      "cell_type": "code",
      "source": [
        "model = create_model()\n",
        "history = model.fit(x_train, y_train,epochs=50, batch_size=32, validation_data=(x_test, y_test))"
      ],
      "metadata": {
        "colab": {
          "base_uri": "https://localhost:8080/"
        },
        "id": "-k4iO1nnZ2k9",
        "outputId": "06437502-ea92-4761-b135-4d6bede6fcd1"
      },
      "execution_count": 19,
      "outputs": [
        {
          "output_type": "stream",
          "name": "stdout",
          "text": [
            "Epoch 1/50\n",
            "10/10 [==============================] - 2s 46ms/step - loss: 1.4675 - accuracy: 0.4735 - val_loss: 1.4224 - val_accuracy: 0.3692\n",
            "Epoch 2/50\n",
            "10/10 [==============================] - 0s 13ms/step - loss: 1.2765 - accuracy: 0.4536 - val_loss: 1.2559 - val_accuracy: 0.4154\n",
            "Epoch 3/50\n",
            "10/10 [==============================] - 0s 13ms/step - loss: 1.1309 - accuracy: 0.5232 - val_loss: 1.1259 - val_accuracy: 0.5538\n",
            "Epoch 4/50\n",
            "10/10 [==============================] - 0s 19ms/step - loss: 1.0187 - accuracy: 0.7450 - val_loss: 1.0115 - val_accuracy: 0.7692\n",
            "Epoch 5/50\n",
            "10/10 [==============================] - 0s 8ms/step - loss: 0.9197 - accuracy: 0.8212 - val_loss: 0.9095 - val_accuracy: 0.8385\n",
            "Epoch 6/50\n",
            "10/10 [==============================] - 0s 9ms/step - loss: 0.8289 - accuracy: 0.8344 - val_loss: 0.8176 - val_accuracy: 0.8385\n",
            "Epoch 7/50\n",
            "10/10 [==============================] - 0s 8ms/step - loss: 0.7465 - accuracy: 0.8377 - val_loss: 0.7260 - val_accuracy: 0.8538\n",
            "Epoch 8/50\n",
            "10/10 [==============================] - 0s 12ms/step - loss: 0.6673 - accuracy: 0.8477 - val_loss: 0.6545 - val_accuracy: 0.8538\n",
            "Epoch 9/50\n",
            "10/10 [==============================] - 0s 9ms/step - loss: 0.5942 - accuracy: 0.8543 - val_loss: 0.5978 - val_accuracy: 0.8385\n",
            "Epoch 10/50\n",
            "10/10 [==============================] - 0s 6ms/step - loss: 0.5464 - accuracy: 0.8411 - val_loss: 0.5381 - val_accuracy: 0.8538\n",
            "Epoch 11/50\n",
            "10/10 [==============================] - 0s 16ms/step - loss: 0.4956 - accuracy: 0.8543 - val_loss: 0.5067 - val_accuracy: 0.8538\n",
            "Epoch 12/50\n",
            "10/10 [==============================] - 0s 7ms/step - loss: 0.4619 - accuracy: 0.8543 - val_loss: 0.4676 - val_accuracy: 0.8538\n",
            "Epoch 13/50\n",
            "10/10 [==============================] - 0s 10ms/step - loss: 0.4331 - accuracy: 0.8543 - val_loss: 0.4434 - val_accuracy: 0.8692\n",
            "Epoch 14/50\n",
            "10/10 [==============================] - 0s 13ms/step - loss: 0.4101 - accuracy: 0.8675 - val_loss: 0.4170 - val_accuracy: 0.8692\n",
            "Epoch 15/50\n",
            "10/10 [==============================] - 0s 9ms/step - loss: 0.3898 - accuracy: 0.8775 - val_loss: 0.4029 - val_accuracy: 0.8769\n",
            "Epoch 16/50\n",
            "10/10 [==============================] - 0s 8ms/step - loss: 0.3741 - accuracy: 0.9007 - val_loss: 0.3814 - val_accuracy: 0.8769\n",
            "Epoch 17/50\n",
            "10/10 [==============================] - 0s 11ms/step - loss: 0.3606 - accuracy: 0.8742 - val_loss: 0.3654 - val_accuracy: 0.8769\n",
            "Epoch 18/50\n",
            "10/10 [==============================] - 0s 9ms/step - loss: 0.3413 - accuracy: 0.8974 - val_loss: 0.3630 - val_accuracy: 0.8538\n",
            "Epoch 19/50\n",
            "10/10 [==============================] - 0s 10ms/step - loss: 0.3319 - accuracy: 0.9007 - val_loss: 0.3416 - val_accuracy: 0.8769\n",
            "Epoch 20/50\n",
            "10/10 [==============================] - 0s 9ms/step - loss: 0.3219 - accuracy: 0.8974 - val_loss: 0.3301 - val_accuracy: 0.8538\n",
            "Epoch 21/50\n",
            "10/10 [==============================] - 0s 9ms/step - loss: 0.3091 - accuracy: 0.8974 - val_loss: 0.3246 - val_accuracy: 0.8769\n",
            "Epoch 22/50\n",
            "10/10 [==============================] - 0s 7ms/step - loss: 0.2938 - accuracy: 0.9040 - val_loss: 0.3039 - val_accuracy: 0.8538\n",
            "Epoch 23/50\n",
            "10/10 [==============================] - 0s 10ms/step - loss: 0.2873 - accuracy: 0.9073 - val_loss: 0.3009 - val_accuracy: 0.8769\n",
            "Epoch 24/50\n",
            "10/10 [==============================] - 0s 8ms/step - loss: 0.2752 - accuracy: 0.9040 - val_loss: 0.2843 - val_accuracy: 0.8769\n",
            "Epoch 25/50\n",
            "10/10 [==============================] - 0s 8ms/step - loss: 0.2724 - accuracy: 0.9172 - val_loss: 0.2841 - val_accuracy: 0.9000\n",
            "Epoch 26/50\n",
            "10/10 [==============================] - 0s 13ms/step - loss: 0.2589 - accuracy: 0.9106 - val_loss: 0.2677 - val_accuracy: 0.9000\n",
            "Epoch 27/50\n",
            "10/10 [==============================] - 0s 8ms/step - loss: 0.2541 - accuracy: 0.9371 - val_loss: 0.2617 - val_accuracy: 0.9000\n",
            "Epoch 28/50\n",
            "10/10 [==============================] - 0s 8ms/step - loss: 0.2432 - accuracy: 0.9338 - val_loss: 0.2493 - val_accuracy: 0.9000\n",
            "Epoch 29/50\n",
            "10/10 [==============================] - 0s 8ms/step - loss: 0.2340 - accuracy: 0.9338 - val_loss: 0.2424 - val_accuracy: 0.9000\n",
            "Epoch 30/50\n",
            "10/10 [==============================] - 0s 9ms/step - loss: 0.2299 - accuracy: 0.9338 - val_loss: 0.2384 - val_accuracy: 0.9000\n",
            "Epoch 31/50\n",
            "10/10 [==============================] - 0s 6ms/step - loss: 0.2198 - accuracy: 0.9338 - val_loss: 0.2254 - val_accuracy: 0.9000\n",
            "Epoch 32/50\n",
            "10/10 [==============================] - 0s 10ms/step - loss: 0.2115 - accuracy: 0.9371 - val_loss: 0.2225 - val_accuracy: 0.9385\n",
            "Epoch 33/50\n",
            "10/10 [==============================] - 0s 13ms/step - loss: 0.2059 - accuracy: 0.9437 - val_loss: 0.2076 - val_accuracy: 0.9154\n",
            "Epoch 34/50\n",
            "10/10 [==============================] - 0s 13ms/step - loss: 0.1965 - accuracy: 0.9437 - val_loss: 0.2032 - val_accuracy: 0.9385\n",
            "Epoch 35/50\n",
            "10/10 [==============================] - 0s 8ms/step - loss: 0.1887 - accuracy: 0.9470 - val_loss: 0.1937 - val_accuracy: 0.9231\n",
            "Epoch 36/50\n",
            "10/10 [==============================] - 0s 8ms/step - loss: 0.1823 - accuracy: 0.9437 - val_loss: 0.1834 - val_accuracy: 0.9308\n",
            "Epoch 37/50\n",
            "10/10 [==============================] - 0s 9ms/step - loss: 0.1742 - accuracy: 0.9437 - val_loss: 0.1822 - val_accuracy: 0.9231\n",
            "Epoch 38/50\n",
            "10/10 [==============================] - 0s 8ms/step - loss: 0.1681 - accuracy: 0.9570 - val_loss: 0.1705 - val_accuracy: 0.9615\n",
            "Epoch 39/50\n",
            "10/10 [==============================] - 0s 8ms/step - loss: 0.1622 - accuracy: 0.9735 - val_loss: 0.1653 - val_accuracy: 0.9615\n",
            "Epoch 40/50\n",
            "10/10 [==============================] - 0s 7ms/step - loss: 0.1568 - accuracy: 0.9470 - val_loss: 0.1592 - val_accuracy: 0.9615\n",
            "Epoch 41/50\n",
            "10/10 [==============================] - 0s 7ms/step - loss: 0.1498 - accuracy: 0.9669 - val_loss: 0.1531 - val_accuracy: 0.9615\n",
            "Epoch 42/50\n",
            "10/10 [==============================] - 0s 9ms/step - loss: 0.1447 - accuracy: 0.9735 - val_loss: 0.1494 - val_accuracy: 0.9615\n",
            "Epoch 43/50\n",
            "10/10 [==============================] - 0s 9ms/step - loss: 0.1393 - accuracy: 0.9735 - val_loss: 0.1442 - val_accuracy: 0.9615\n",
            "Epoch 44/50\n",
            "10/10 [==============================] - 0s 7ms/step - loss: 0.1341 - accuracy: 0.9735 - val_loss: 0.1393 - val_accuracy: 0.9692\n",
            "Epoch 45/50\n",
            "10/10 [==============================] - 0s 6ms/step - loss: 0.1330 - accuracy: 0.9702 - val_loss: 0.1343 - val_accuracy: 0.9615\n",
            "Epoch 46/50\n",
            "10/10 [==============================] - 0s 11ms/step - loss: 0.1221 - accuracy: 0.9768 - val_loss: 0.1294 - val_accuracy: 0.9692\n",
            "Epoch 47/50\n",
            "10/10 [==============================] - 0s 13ms/step - loss: 0.1183 - accuracy: 0.9735 - val_loss: 0.1252 - val_accuracy: 0.9692\n",
            "Epoch 48/50\n",
            "10/10 [==============================] - 0s 10ms/step - loss: 0.1144 - accuracy: 0.9570 - val_loss: 0.1223 - val_accuracy: 0.9615\n",
            "Epoch 49/50\n",
            "10/10 [==============================] - 0s 10ms/step - loss: 0.1135 - accuracy: 0.9735 - val_loss: 0.1173 - val_accuracy: 0.9692\n",
            "Epoch 50/50\n",
            "10/10 [==============================] - 0s 9ms/step - loss: 0.1072 - accuracy: 0.9702 - val_loss: 0.1142 - val_accuracy: 0.9692\n"
          ]
        }
      ]
    },
    {
      "cell_type": "code",
      "source": [
        "# Plot akurasi dan loss\n",
        "plt.figure(figsize=(10, 4))\n",
        "plt.subplot(1, 2, 1)\n",
        "plt.plot(history.history['accuracy'], label='Training Accuracy')\n",
        "plt.plot(history.history['val_accuracy'], label='Validation Accuracy')\n",
        "plt.xlabel('Epoch')\n",
        "plt.ylabel('Accuracy')\n",
        "plt.legend()\n",
        "\n",
        "plt.show()"
      ],
      "metadata": {
        "colab": {
          "base_uri": "https://localhost:8080/",
          "height": 390
        },
        "id": "D0GyRpplZ_mc",
        "outputId": "2a2bb23f-a160-48be-8b4f-a2c0e1452708"
      },
      "execution_count": 20,
      "outputs": [
        {
          "output_type": "display_data",
          "data": {
            "text/plain": [
              "<Figure size 1000x400 with 1 Axes>"
            ],
            "image/png": "[encoded data removed]"
          },
          "metadata": {}
        }
      ]
    },
    {
      "cell_type": "code",
      "source": [
        "saved_model_path = \"/content/machine-learning/Models/hairloss_model.h5\"\n",
        "model.save(saved_model_path)"
      ],
      "metadata": {
        "id": "KrbdvY92vmzh"
      },
      "execution_count": 21,
      "outputs": []
    },
    {
      "cell_type": "code",
      "source": [],
      "metadata": {
        "id": "6IIHU4u3wc1S"
      },
      "execution_count": 21,
      "outputs": []
    }
  ]
}