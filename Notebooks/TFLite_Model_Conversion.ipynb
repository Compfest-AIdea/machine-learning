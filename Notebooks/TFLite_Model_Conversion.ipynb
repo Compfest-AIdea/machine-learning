{
  "nbformat": 4,
  "nbformat_minor": 0,
  "metadata": {
    "colab": {
      "provenance": []
    },
    "kernelspec": {
      "name": "python3",
      "display_name": "Python 3"
    },
    "language_info": {
      "name": "python"
    }
  },
  "cells": [
    {
      "cell_type": "code",
      "execution_count": 2,
      "metadata": {
        "colab": {
          "base_uri": "https://localhost:8080/"
        },
        "id": "iDPbuw1f5bhE",
        "outputId": "353ad742-d241-401e-c59e-96a8593bc9dd"
      },
      "outputs": [
        {
          "output_type": "stream",
          "name": "stdout",
          "text": [
            "Cloning into 'machine-learning'...\n",
            "remote: Enumerating objects: 6114, done.\u001b[K\n",
            "remote: Counting objects: 100% (107/107), done.\u001b[K\n",
            "remote: Compressing objects: 100% (75/75), done.\u001b[K\n",
            "remote: Total 6114 (delta 28), reused 106 (delta 27), pack-reused 6007\u001b[K\n",
            "Receiving objects: 100% (6114/6114), 97.93 MiB | 21.48 MiB/s, done.\n",
            "Resolving deltas: 100% (29/29), done.\n",
            "Updating files: 100% (6524/6524), done.\n"
          ]
        }
      ],
      "source": [
        "!git clone https://github.com/Compfest-AIdea/machine-learning.git"
      ]
    },
    {
      "cell_type": "code",
      "source": [
        "import tensorflow as tf\n",
        "\n",
        "# Load the Keras model\n",
        "scalp_model = tf.keras.models.load_model('/content/machine-learning/Models/scalp_model.h5')\n",
        "hairloss_model = tf.keras.models.load_model('/content/machine-learning/Models/hairloss_model.h5')\n",
        "\n",
        "# Convert the model to TensorFlow Lite format\n",
        "converter = tf.lite.TFLiteConverter.from_keras_model(scalp_model)\n",
        "tflite_scalp_model = converter.convert()\n",
        "\n",
        "converter = tf.lite.TFLiteConverter.from_keras_model(hairloss_model)\n",
        "tflite_hairloss_model = converter.convert()\n",
        "\n",
        "# Save the TensorFlow Lite model\n",
        "with open('scalp_model.tflite', 'wb') as f:\n",
        "    f.write(tflite_scalp_model)\n",
        "with open('hairloss_model.tflite', 'wb') as f:\n",
        "    f.write(tflite_hairloss_model)\n"
      ],
      "metadata": {
        "colab": {
          "base_uri": "https://localhost:8080/"
        },
        "id": "pSgrxgH55i2T",
        "outputId": "7eb0606f-5369-4758-9de3-d04af0bb7811"
      },
      "execution_count": 3,
      "outputs": [
        {
          "output_type": "stream",
          "name": "stderr",
          "text": [
            "WARNING:absl:Found untraced functions such as _jit_compiled_convolution_op, _jit_compiled_convolution_op, _jit_compiled_convolution_op, _jit_compiled_convolution_op, _update_step_xla while saving (showing 5 of 5). These functions will not be directly callable after loading.\n",
            "WARNING:absl:Found untraced functions such as _update_step_xla while saving (showing 1 of 1). These functions will not be directly callable after loading.\n"
          ]
        }
      ]
    },
    {
      "cell_type": "code",
      "source": [],
      "metadata": {
        "id": "wbwg3HVN6Je7"
      },
      "execution_count": null,
      "outputs": []
    }
  ]
}