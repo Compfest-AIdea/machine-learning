{
  "nbformat": 4,
  "nbformat_minor": 0,
  "metadata": {
    "colab": {
      "provenance": []
    },
    "kernelspec": {
      "name": "python3",
      "display_name": "Python 3"
    },
    "language_info": {
      "name": "python"
    }
  },
  "cells": [
    {
      "cell_type": "markdown",
      "source": [
        "# Classification Report Scalp Model"
      ],
      "metadata": {
        "id": "_pBE_xQYiagb"
      }
    },
    {
      "cell_type": "code",
      "execution_count": 1,
      "metadata": {
        "colab": {
          "base_uri": "https://localhost:8080/"
        },
        "id": "glYZ92krgoB4",
        "outputId": "b19f11d0-796a-4506-8fa8-dc06e1613045"
      },
      "outputs": [
        {
          "output_type": "stream",
          "name": "stdout",
          "text": [
            "Kelas 1:\n",
            "Precision: 0.8\n",
            "Recall: 0.7666666666666667\n",
            "F1-Score: 0.7829787234042553\n",
            "\n",
            "Kelas 2:\n",
            "Precision: 0.9117647058823529\n",
            "Recall: 0.9041666666666667\n",
            "F1-Score: 0.9079497907949791\n",
            "\n",
            "Kelas 3:\n",
            "Precision: 0.8354430379746836\n",
            "Recall: 0.825\n",
            "F1-Score: 0.8301886792452831\n",
            "\n",
            "Kelas 4:\n",
            "Precision: 0.8541666666666666\n",
            "Recall: 0.8541666666666666\n",
            "F1-Score: 0.8541666666666666\n",
            "\n",
            "Kelas 5:\n",
            "Precision: 0.8745098039215686\n",
            "Recall: 0.9291666666666667\n",
            "F1-Score: 0.9010101010101009\n",
            "\n",
            "Rata-rata Precision: 0.8551768428890544\n",
            "Rata-rata Recall: 0.8558333333333333\n",
            "Rata-rata F1-Score: 0.8552587922242569\n"
          ]
        }
      ],
      "source": [
        "import numpy as np\n",
        "\n",
        "confusion_matrix = np.array([\n",
        "    [184, 10, 10, 21, 15],\n",
        "    [8, 217, 7, 5, 3],\n",
        "    [14, 8, 198, 9, 11],\n",
        "    [15, 2, 15, 205, 3],\n",
        "    [9, 1, 7, 0, 223]\n",
        "])\n",
        "\n",
        "# Menghitung precision, recall, dan f1-score untuk setiap kelas\n",
        "num_classes = len(confusion_matrix)\n",
        "precision_scores = []\n",
        "recall_scores = []\n",
        "f1_scores = []\n",
        "\n",
        "for i in range(num_classes):\n",
        "    TP = confusion_matrix[i, i]\n",
        "    FP = np.sum(confusion_matrix[:, i]) - TP\n",
        "    FN = np.sum(confusion_matrix[i, :]) - TP\n",
        "\n",
        "    precision = TP / (TP + FP)\n",
        "    recall = TP / (TP + FN)\n",
        "\n",
        "    if precision + recall == 0:\n",
        "        f1 = 0  # Menghindari pembagian dengan nol\n",
        "    else:\n",
        "        f1 = 2 * (precision * recall) / (precision + recall)\n",
        "\n",
        "    precision_scores.append(precision)\n",
        "    recall_scores.append(recall)\n",
        "    f1_scores.append(f1)\n",
        "\n",
        "# Hasil untuk setiap kelas\n",
        "for i in range(num_classes):\n",
        "    print(f\"Kelas {i + 1}:\")\n",
        "    print(f\"Precision: {precision_scores[i]}\")\n",
        "    print(f\"Recall: {recall_scores[i]}\")\n",
        "    print(f\"F1-Score: {f1_scores[i]}\")\n",
        "    print()\n",
        "\n",
        "# Rata-rata untuk semua kelas\n",
        "avg_precision = np.mean(precision_scores)\n",
        "avg_recall = np.mean(recall_scores)\n",
        "avg_f1 = np.mean(f1_scores)\n",
        "\n",
        "print(\"Rata-rata Precision:\", avg_precision)\n",
        "print(\"Rata-rata Recall:\", avg_recall)\n",
        "print(\"Rata-rata F1-Score:\", avg_f1)"
      ]
    },
    {
      "cell_type": "markdown",
      "source": [
        "# Classification Report Hairloss Model"
      ],
      "metadata": {
        "id": "aNu8YsBkiioW"
      }
    },
    {
      "cell_type": "code",
      "source": [
        "import numpy as np\n",
        "\n",
        "confusion_matrix = np.array([\n",
        "    [155, 11, 0, 0],\n",
        "    [7, 156, 3, 0],\n",
        "    [0, 5, 44, 1],\n",
        "    [0, 2, 5, 43]\n",
        "])\n",
        "\n",
        "# Menghitung precision, recall, dan f1-score untuk setiap kelas\n",
        "num_classes = len(confusion_matrix)\n",
        "precision_scores = []\n",
        "recall_scores = []\n",
        "f1_scores = []\n",
        "\n",
        "for i in range(num_classes):\n",
        "    TP = confusion_matrix[i, i]\n",
        "    FP = np.sum(confusion_matrix[:, i]) - TP\n",
        "    FN = np.sum(confusion_matrix[i, :]) - TP\n",
        "\n",
        "    precision = TP / (TP + FP)\n",
        "    recall = TP / (TP + FN)\n",
        "\n",
        "    if precision + recall == 0:\n",
        "        f1 = 0  # Menghindari pembagian dengan nol\n",
        "    else:\n",
        "        f1 = 2 * (precision * recall) / (precision + recall)\n",
        "\n",
        "    precision_scores.append(precision)\n",
        "    recall_scores.append(recall)\n",
        "    f1_scores.append(f1)\n",
        "\n",
        "# Hasil untuk setiap kelas\n",
        "for i in range(num_classes):\n",
        "    print(f\"Kelas {i + 1}:\")\n",
        "    print(f\"Precision: {precision_scores[i]}\")\n",
        "    print(f\"Recall: {recall_scores[i]}\")\n",
        "    print(f\"F1-Score: {f1_scores[i]}\")\n",
        "    print()\n",
        "\n",
        "# Rata-rata untuk semua kelas\n",
        "avg_precision = np.mean(precision_scores)\n",
        "avg_recall = np.mean(recall_scores)\n",
        "avg_f1 = np.mean(f1_scores)\n",
        "\n",
        "print(\"Rata-rata Precision:\", avg_precision)\n",
        "print(\"Rata-rata Recall:\", avg_recall)\n",
        "print(\"Rata-rata F1-Score:\", avg_f1)"
      ],
      "metadata": {
        "colab": {
          "base_uri": "https://localhost:8080/"
        },
        "id": "pW5pkWgbinGH",
        "outputId": "a32e8a78-0781-4327-ec3e-95d82d06e2c2"
      },
      "execution_count": 2,
      "outputs": [
        {
          "output_type": "stream",
          "name": "stdout",
          "text": [
            "Kelas 1:\n",
            "Precision: 0.9567901234567902\n",
            "Recall: 0.9337349397590361\n",
            "F1-Score: 0.9451219512195123\n",
            "\n",
            "Kelas 2:\n",
            "Precision: 0.896551724137931\n",
            "Recall: 0.9397590361445783\n",
            "F1-Score: 0.9176470588235294\n",
            "\n",
            "Kelas 3:\n",
            "Precision: 0.8461538461538461\n",
            "Recall: 0.88\n",
            "F1-Score: 0.8627450980392156\n",
            "\n",
            "Kelas 4:\n",
            "Precision: 0.9772727272727273\n",
            "Recall: 0.86\n",
            "F1-Score: 0.9148936170212766\n",
            "\n",
            "Rata-rata Precision: 0.9191921052553236\n",
            "Rata-rata Recall: 0.9033734939759036\n",
            "Rata-rata F1-Score: 0.9101019312758835\n"
          ]
        }
      ]
    }
  ]
}